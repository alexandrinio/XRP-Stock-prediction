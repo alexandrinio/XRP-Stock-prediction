{
 "cells": [
  {
   "cell_type": "code",
   "execution_count": 1,
   "metadata": {},
   "outputs": [
    {
     "name": "stderr",
     "output_type": "stream",
     "text": [
      "Using TensorFlow backend.\n"
     ]
    }
   ],
   "source": [
    "#Import my dependencies\n",
    "import numpy as np\n",
    "import pandas as pd\n",
    "import matplotlib.pyplot as plt\n",
    "from sklearn.preprocessing import MinMaxScaler\n",
    "import keras\n",
    "from keras.models import Sequential, load_model\n",
    "from keras.layers import LSTM, Dense, Dropout\n",
    "import os\n",
    "import tensorflow as tf"
   ]
  },
  {
   "cell_type": "code",
   "execution_count": 2,
   "metadata": {},
   "outputs": [
    {
     "data": {
      "text/html": [
       "<div>\n",
       "<style scoped>\n",
       "    .dataframe tbody tr th:only-of-type {\n",
       "        vertical-align: middle;\n",
       "    }\n",
       "\n",
       "    .dataframe tbody tr th {\n",
       "        vertical-align: top;\n",
       "    }\n",
       "\n",
       "    .dataframe thead th {\n",
       "        text-align: right;\n",
       "    }\n",
       "</style>\n",
       "<table border=\"1\" class=\"dataframe\">\n",
       "  <thead>\n",
       "    <tr style=\"text-align: right;\">\n",
       "      <th></th>\n",
       "      <th>Date</th>\n",
       "      <th>Open</th>\n",
       "      <th>High</th>\n",
       "      <th>Low</th>\n",
       "      <th>Close</th>\n",
       "      <th>Adj Close</th>\n",
       "      <th>Volume</th>\n",
       "    </tr>\n",
       "  </thead>\n",
       "  <tbody>\n",
       "    <tr>\n",
       "      <th>0</th>\n",
       "      <td>2016-01-01</td>\n",
       "      <td>0.006040</td>\n",
       "      <td>0.006044</td>\n",
       "      <td>0.005933</td>\n",
       "      <td>0.005955</td>\n",
       "      <td>0.005955</td>\n",
       "      <td>211767</td>\n",
       "    </tr>\n",
       "    <tr>\n",
       "      <th>1</th>\n",
       "      <td>2016-01-02</td>\n",
       "      <td>0.005957</td>\n",
       "      <td>0.006079</td>\n",
       "      <td>0.005933</td>\n",
       "      <td>0.006065</td>\n",
       "      <td>0.006065</td>\n",
       "      <td>278539</td>\n",
       "    </tr>\n",
       "    <tr>\n",
       "      <th>2</th>\n",
       "      <td>2016-01-03</td>\n",
       "      <td>0.006066</td>\n",
       "      <td>0.006070</td>\n",
       "      <td>0.005988</td>\n",
       "      <td>0.006017</td>\n",
       "      <td>0.006017</td>\n",
       "      <td>291723</td>\n",
       "    </tr>\n",
       "    <tr>\n",
       "      <th>3</th>\n",
       "      <td>2016-01-04</td>\n",
       "      <td>0.006019</td>\n",
       "      <td>0.006059</td>\n",
       "      <td>0.005953</td>\n",
       "      <td>0.005958</td>\n",
       "      <td>0.005958</td>\n",
       "      <td>310820</td>\n",
       "    </tr>\n",
       "    <tr>\n",
       "      <th>4</th>\n",
       "      <td>2016-01-05</td>\n",
       "      <td>0.005954</td>\n",
       "      <td>0.006044</td>\n",
       "      <td>0.005953</td>\n",
       "      <td>0.006044</td>\n",
       "      <td>0.006044</td>\n",
       "      <td>381554</td>\n",
       "    </tr>\n",
       "  </tbody>\n",
       "</table>\n",
       "</div>"
      ],
      "text/plain": [
       "         Date      Open      High       Low     Close  Adj Close  Volume\n",
       "0  2016-01-01  0.006040  0.006044  0.005933  0.005955   0.005955  211767\n",
       "1  2016-01-02  0.005957  0.006079  0.005933  0.006065   0.006065  278539\n",
       "2  2016-01-03  0.006066  0.006070  0.005988  0.006017   0.006017  291723\n",
       "3  2016-01-04  0.006019  0.006059  0.005953  0.005958   0.005958  310820\n",
       "4  2016-01-05  0.005954  0.006044  0.005953  0.006044   0.006044  381554"
      ]
     },
     "execution_count": 2,
     "metadata": {},
     "output_type": "execute_result"
    }
   ],
   "source": [
    "df = pd.read_csv('XRP.csv')\n",
    "df.head()"
   ]
  },
  {
   "cell_type": "code",
   "execution_count": 3,
   "metadata": {},
   "outputs": [
    {
     "name": "stdout",
     "output_type": "stream",
     "text": [
      "(1829, 1)\n"
     ]
    },
    {
     "data": {
      "text/plain": [
       "array([[0.00604 ],\n",
       "       [0.005957],\n",
       "       [0.006066],\n",
       "       [0.006019],\n",
       "       [0.005954],\n",
       "       [0.006044],\n",
       "       [0.005998]])"
      ]
     },
     "execution_count": 3,
     "metadata": {},
     "output_type": "execute_result"
    }
   ],
   "source": [
    "#preprocessing our data\n",
    "\n",
    "#.values to convert it to an numpy array - you can also use np.array(data)\n",
    "df = df['Open'].values\n",
    "\n",
    "#reshape the data in a structure that keras accepts\n",
    "df = df.reshape(-1,1)\n",
    "print(df.shape)\n",
    "df[:7]"
   ]
  },
  {
   "cell_type": "code",
   "execution_count": 4,
   "metadata": {},
   "outputs": [
    {
     "name": "stdout",
     "output_type": "stream",
     "text": [
      "(1463, 1)\n",
      "(416, 1)\n"
     ]
    }
   ],
   "source": [
    "dataset_train = np.array(df[:int(df.shape[0]*0.8)])\n",
    "dataset_test = np.array(df[int(df.shape[0]*0.8)-50:])\n",
    "print(dataset_train.shape)\n",
    "print(dataset_test.shape)"
   ]
  },
  {
   "cell_type": "code",
   "execution_count": 5,
   "metadata": {},
   "outputs": [
    {
     "data": {
      "text/plain": [
       "array([[0.00027721],\n",
       "       [0.0002525 ],\n",
       "       [0.00028495],\n",
       "       [0.00027096],\n",
       "       [0.0002516 ],\n",
       "       [0.0002784 ],\n",
       "       [0.0002647 ]])"
      ]
     },
     "execution_count": 5,
     "metadata": {},
     "output_type": "execute_result"
    }
   ],
   "source": [
    "scaler = MinMaxScaler(feature_range=(0,1))\n",
    "dataset_train = scaler.fit_transform(dataset_train)\n",
    "dataset_train[:7]"
   ]
  },
  {
   "cell_type": "code",
   "execution_count": 6,
   "metadata": {},
   "outputs": [
    {
     "data": {
      "text/plain": [
       "array([[0.07973712],\n",
       "       [0.07901059],\n",
       "       [0.07639958],\n",
       "       [0.07708888],\n",
       "       [0.07742475],\n",
       "       [0.07459875],\n",
       "       [0.07486643]])"
      ]
     },
     "execution_count": 6,
     "metadata": {},
     "output_type": "execute_result"
    }
   ],
   "source": [
    "dataset_test = scaler.transform(dataset_test)\n",
    "dataset_test[:7]"
   ]
  },
  {
   "cell_type": "code",
   "execution_count": 7,
   "metadata": {},
   "outputs": [],
   "source": [
    "def create_my_dataset(df):\n",
    "    x = []\n",
    "    y = []\n",
    "    for i in range(50,df.shape[0]):\n",
    "        x.append(df[i-50:i,0])\n",
    "        y.append(df[i,0])\n",
    "    x = np.array(x)\n",
    "    y = np.array(y)\n",
    "    return x,y"
   ]
  },
  {
   "cell_type": "code",
   "execution_count": 85,
   "metadata": {},
   "outputs": [
    {
     "name": "stdout",
     "output_type": "stream",
     "text": [
      "[2.77210306e-04 2.52496605e-04 2.84951947e-04 2.70957442e-04\n",
      " 2.51603339e-04 2.78401327e-04 2.64704577e-04 2.77210306e-04\n",
      " 2.46541496e-04 2.59940491e-04 2.54283137e-04 2.33142502e-04\n",
      " 2.16468198e-04 2.04260225e-04 1.24759525e-04 3.33486082e-05\n",
      " 2.97755430e-07 4.79386243e-05 6.58039501e-05 4.82363797e-05\n",
      " 7.77141673e-05 6.10398632e-05 0.00000000e+00 3.57306516e-06\n",
      " 3.24553419e-05 8.63490748e-06 8.90288736e-05 4.16262091e-04\n",
      " 3.33188326e-04 5.10650563e-04 4.53183765e-04 3.83806750e-04\n",
      " 4.27576798e-04 4.94869525e-04 5.27920378e-04 5.52634079e-04\n",
      " 6.44342751e-04 8.38181536e-04 9.72469235e-04 8.60513193e-04\n",
      " 8.09299259e-04 8.18231922e-04 8.07810482e-04 8.49198487e-04\n",
      " 9.39120627e-04 1.03737992e-03 1.04869463e-03 9.96587425e-04\n",
      " 9.01007932e-04 8.59024416e-04]\n",
      "0.0009361430726752518\n"
     ]
    },
    {
     "data": {
      "text/plain": [
       "(366, 3)"
      ]
     },
     "execution_count": 85,
     "metadata": {},
     "output_type": "execute_result"
    }
   ],
   "source": [
    "x_train, y_train = create_my_dataset(dataset_train)\n",
    "print(x_train[0])\n",
    "print(y_train[0])\n",
    "df.shape"
   ]
  },
  {
   "cell_type": "code",
   "execution_count": 9,
   "metadata": {},
   "outputs": [
    {
     "data": {
      "text/plain": [
       "array([[0.07973712, 0.07901059, 0.07639958, 0.07708888, 0.07742475,\n",
       "        0.07459875, 0.07486643, 0.07330947, 0.0710641 , 0.06743118,\n",
       "        0.06881664, 0.06482821, 0.06352761, 0.06453432, 0.06553954,\n",
       "        0.06536149, 0.0670316 , 0.06591025, 0.06558867, 0.06384085,\n",
       "        0.06393256, 0.06286808, 0.06486602, 0.06562023, 0.06650189,\n",
       "        0.06709144, 0.06560445, 0.06524774, 0.06458434, 0.06393345,\n",
       "        0.06420768, 0.06326231, 0.0635821 , 0.06017042, 0.05344829,\n",
       "        0.05692488, 0.05532028, 0.05664231, 0.05624302, 0.05712408,\n",
       "        0.05534767, 0.05573356, 0.05521755, 0.05517229, 0.05536881,\n",
       "        0.05598011, 0.05715535, 0.05639756, 0.05591936, 0.05585862]])"
      ]
     },
     "execution_count": 9,
     "metadata": {},
     "output_type": "execute_result"
    }
   ],
   "source": [
    "x_test, y_test = create_my_dataset(dataset_test)\n",
    "x_test[:1]"
   ]
  },
  {
   "cell_type": "code",
   "execution_count": 10,
   "metadata": {},
   "outputs": [
    {
     "name": "stdout",
     "output_type": "stream",
     "text": [
      "(1413, 50, 1)\n",
      "(366, 50, 1)\n"
     ]
    }
   ],
   "source": [
    "#reshaping for LSTM\n",
    "x_train = np.reshape(x_train, (x_train.shape[0],x_train.shape[1],1))\n",
    "x_test = np.reshape(x_test, (x_test.shape[0],x_test.shape[1],1))\n",
    "print(x_train.shape)\n",
    "print(x_test.shape)"
   ]
  },
  {
   "cell_type": "code",
   "execution_count": 11,
   "metadata": {},
   "outputs": [],
   "source": [
    "model = Sequential()\n",
    "model.add(LSTM(units=96, return_sequences=True, input_shape=(x_train.shape[1],1)))\n",
    "model.add(Dropout(0.2))\n",
    "model.add(LSTM(units=96, return_sequences=True))\n",
    "model.add(Dropout(0.2))\n",
    "model.add(LSTM(units=96, return_sequences=False))\n",
    "model.add(Dropout(0.2))\n",
    "model.add(Dense(units=1))\n"
   ]
  },
  {
   "cell_type": "code",
   "execution_count": 12,
   "metadata": {},
   "outputs": [
    {
     "name": "stdout",
     "output_type": "stream",
     "text": [
      "Model: \"sequential_1\"\n",
      "_________________________________________________________________\n",
      "Layer (type)                 Output Shape              Param #   \n",
      "=================================================================\n",
      "lstm_1 (LSTM)                (None, 50, 96)            37632     \n",
      "_________________________________________________________________\n",
      "dropout_1 (Dropout)          (None, 50, 96)            0         \n",
      "_________________________________________________________________\n",
      "lstm_2 (LSTM)                (None, 50, 96)            74112     \n",
      "_________________________________________________________________\n",
      "dropout_2 (Dropout)          (None, 50, 96)            0         \n",
      "_________________________________________________________________\n",
      "lstm_3 (LSTM)                (None, 96)                74112     \n",
      "_________________________________________________________________\n",
      "dropout_3 (Dropout)          (None, 96)                0         \n",
      "_________________________________________________________________\n",
      "dense_1 (Dense)              (None, 1)                 97        \n",
      "=================================================================\n",
      "Total params: 185,953\n",
      "Trainable params: 185,953\n",
      "Non-trainable params: 0\n",
      "_________________________________________________________________\n"
     ]
    }
   ],
   "source": [
    "model.summary()"
   ]
  },
  {
   "cell_type": "code",
   "execution_count": 13,
   "metadata": {},
   "outputs": [],
   "source": [
    "model.compile(loss='mean_squared_error', optimizer = 'adam')"
   ]
  },
  {
   "cell_type": "code",
   "execution_count": 14,
   "metadata": {},
   "outputs": [
    {
     "name": "stdout",
     "output_type": "stream",
     "text": [
      "Epoch 1/50\n",
      "1413/1413 [==============================] - 5s 4ms/step - loss: 0.0037\n",
      "Epoch 2/50\n",
      "1413/1413 [==============================] - 4s 3ms/step - loss: 0.0019\n",
      "Epoch 3/50\n",
      "1413/1413 [==============================] - 4s 3ms/step - loss: 0.0018\n",
      "Epoch 4/50\n",
      "1413/1413 [==============================] - 4s 3ms/step - loss: 0.0012\n",
      "Epoch 5/50\n",
      "1413/1413 [==============================] - 4s 3ms/step - loss: 0.0013\n",
      "Epoch 6/50\n",
      "1413/1413 [==============================] - 4s 2ms/step - loss: 0.0011\n",
      "Epoch 7/50\n",
      "1413/1413 [==============================] - 3s 2ms/step - loss: 0.0012\n",
      "Epoch 8/50\n",
      "1413/1413 [==============================] - 4s 3ms/step - loss: 9.1791e-04\n",
      "Epoch 9/50\n",
      "1413/1413 [==============================] - 4s 3ms/step - loss: 8.6009e-04\n",
      "Epoch 10/50\n",
      "1413/1413 [==============================] - 4s 3ms/step - loss: 9.2714e-04\n",
      "Epoch 11/50\n",
      "1413/1413 [==============================] - 4s 3ms/step - loss: 7.6790e-04\n",
      "Epoch 12/50\n",
      "1413/1413 [==============================] - 4s 3ms/step - loss: 7.6957e-04A: 0s - loss: 7.56\n",
      "Epoch 13/50\n",
      "1413/1413 [==============================] - 4s 3ms/step - loss: 0.0015\n",
      "Epoch 14/50\n",
      "1413/1413 [==============================] - 4s 3ms/step - loss: 7.9385e-04\n",
      "Epoch 15/50\n",
      "1413/1413 [==============================] - 3s 2ms/step - loss: 7.3487e-04\n",
      "Epoch 16/50\n",
      "1413/1413 [==============================] - 3s 2ms/step - loss: 0.0010\n",
      "Epoch 17/50\n",
      "1413/1413 [==============================] - 3s 2ms/step - loss: 6.6492e-04\n",
      "Epoch 18/50\n",
      "1413/1413 [==============================] - 4s 2ms/step - loss: 6.7136e-04\n",
      "Epoch 19/50\n",
      "1413/1413 [==============================] - 4s 3ms/step - loss: 7.5688e-04\n",
      "Epoch 20/50\n",
      "1413/1413 [==============================] - 3s 2ms/step - loss: 7.0815e-04\n",
      "Epoch 21/50\n",
      "1413/1413 [==============================] - 3s 2ms/step - loss: 7.2497e-04\n",
      "Epoch 22/50\n",
      "1413/1413 [==============================] - 3s 2ms/step - loss: 5.9690e-04\n",
      "Epoch 23/50\n",
      "1413/1413 [==============================] - 3s 2ms/step - loss: 9.5617e-04\n",
      "Epoch 24/50\n",
      "1413/1413 [==============================] - 3s 2ms/step - loss: 6.0465e-04\n",
      "Epoch 25/50\n",
      "1413/1413 [==============================] - 3s 2ms/step - loss: 5.8384e-04\n",
      "Epoch 26/50\n",
      "1413/1413 [==============================] - 3s 2ms/step - loss: 6.0821e-04\n",
      "Epoch 27/50\n",
      "1413/1413 [==============================] - 4s 2ms/step - loss: 6.1917e-04\n",
      "Epoch 28/50\n",
      "1413/1413 [==============================] - 3s 2ms/step - loss: 7.5524e-04\n",
      "Epoch 29/50\n",
      "1413/1413 [==============================] - 4s 3ms/step - loss: 8.9232e-04\n",
      "Epoch 30/50\n",
      "1413/1413 [==============================] - 4s 3ms/step - loss: 5.0563e-04\n",
      "Epoch 31/50\n",
      "1413/1413 [==============================] - 3s 2ms/step - loss: 5.5972e-04\n",
      "Epoch 32/50\n",
      "1413/1413 [==============================] - 3s 2ms/step - loss: 4.7545e-04\n",
      "Epoch 33/50\n",
      "1413/1413 [==============================] - 4s 3ms/step - loss: 6.7029e-04\n",
      "Epoch 34/50\n",
      "1413/1413 [==============================] - 4s 3ms/step - loss: 5.9649e-04\n",
      "Epoch 35/50\n",
      "1413/1413 [==============================] - 4s 3ms/step - loss: 6.3921e-04\n",
      "Epoch 36/50\n",
      "1413/1413 [==============================] - 4s 3ms/step - loss: 7.2007e-04\n",
      "Epoch 37/50\n",
      "1413/1413 [==============================] - 4s 3ms/step - loss: 8.5314e-04\n",
      "Epoch 38/50\n",
      "1413/1413 [==============================] - 4s 3ms/step - loss: 5.7795e-04\n",
      "Epoch 39/50\n",
      "1413/1413 [==============================] - 4s 3ms/step - loss: 4.5538e-04\n",
      "Epoch 40/50\n",
      "1413/1413 [==============================] - 5s 4ms/step - loss: 5.3787e-04\n",
      "Epoch 41/50\n",
      "1413/1413 [==============================] - 6s 4ms/step - loss: 5.3682e-04\n",
      "Epoch 42/50\n",
      "1413/1413 [==============================] - 7s 5ms/step - loss: 4.8036e-04\n",
      "Epoch 43/50\n",
      "1413/1413 [==============================] - 4s 3ms/step - loss: 5.0072e-04\n",
      "Epoch 44/50\n",
      "1413/1413 [==============================] - 4s 3ms/step - loss: 5.1358e-04\n",
      "Epoch 45/50\n",
      "1413/1413 [==============================] - 4s 3ms/step - loss: 6.5971e-04\n",
      "Epoch 46/50\n",
      "1413/1413 [==============================] - 4s 2ms/step - loss: 6.7236e-04\n",
      "Epoch 47/50\n",
      "1413/1413 [==============================] - 4s 3ms/step - loss: 4.5812e-04\n",
      "Epoch 48/50\n",
      "1413/1413 [==============================] - 4s 3ms/step - loss: 5.0686e-04\n",
      "Epoch 49/50\n",
      "1413/1413 [==============================] - 4s 3ms/step - loss: 6.1938e-04\n",
      "Epoch 50/50\n",
      "1413/1413 [==============================] - 4s 3ms/step - loss: 5.0259e-04\n"
     ]
    }
   ],
   "source": [
    "model.fit(x_train, y_train, epochs=50, batch_size=32)\n",
    "model.save('stock_prediction.h5')"
   ]
  },
  {
   "cell_type": "code",
   "execution_count": 15,
   "metadata": {},
   "outputs": [
    {
     "name": "stdout",
     "output_type": "stream",
     "text": [
      "range(1463, 1829)\n"
     ]
    },
    {
     "data": {
      "image/png": "[encoded data removed]",
      "text/plain": [
       "<Figure size 576x288 with 1 Axes>"
      ]
     },
     "metadata": {
      "needs_background": "light"
     },
     "output_type": "display_data"
    }
   ],
   "source": [
    "#visualizing our predictions\n",
    "%matplotlib inline\n",
    "predictions = model.predict(x_test)\n",
    "predictions = scaler.inverse_transform(predictions)\n",
    "\n",
    "fig, ax = plt.subplots(figsize=(8,4))\n",
    "plt.plot(df, color='red', label='original')\n",
    "ax.plot(range(len(y_train)+50, len(y_train)+50+len(predictions)),predictions,color='blue', label='prediction')\n",
    "plt.legend()\n",
    "print(range(len(y_train)+50, len(y_train)+50+len(predictions)))"
   ]
  },
  {
   "cell_type": "code",
   "execution_count": 16,
   "metadata": {},
   "outputs": [
    {
     "data": {
      "text/plain": [
       "<matplotlib.legend.Legend at 0x1fd3953b128>"
      ]
     },
     "execution_count": 16,
     "metadata": {},
     "output_type": "execute_result"
    },
    {
     "data": {
      "image/png": "[encoded data removed]",
      "text/plain": [
       "<Figure size 576x288 with 1 Axes>"
      ]
     },
     "metadata": {
      "needs_background": "light"
     },
     "output_type": "display_data"
    }
   ],
   "source": [
    "y_test_scaled = scaler.inverse_transform(y_test.reshape(-1,1))\n",
    "fig, ax = plt.subplots(figsize=(8,4))\n",
    "ax.plot(y_test_scaled, color='red', label = 'original')\n",
    "plt.plot(predictions, color='blue', label = 'prediction')\n",
    "plt.legend()"
   ]
  },
  {
   "cell_type": "code",
   "execution_count": 62,
   "metadata": {},
   "outputs": [
    {
     "data": {
      "text/html": [
       "<div>\n",
       "<style scoped>\n",
       "    .dataframe tbody tr th:only-of-type {\n",
       "        vertical-align: middle;\n",
       "    }\n",
       "\n",
       "    .dataframe tbody tr th {\n",
       "        vertical-align: top;\n",
       "    }\n",
       "\n",
       "    .dataframe thead th {\n",
       "        text-align: right;\n",
       "    }\n",
       "</style>\n",
       "<table border=\"1\" class=\"dataframe\">\n",
       "  <thead>\n",
       "    <tr style=\"text-align: right;\">\n",
       "      <th></th>\n",
       "      <th>actual</th>\n",
       "      <th>predicted</th>\n",
       "      <th>diff</th>\n",
       "    </tr>\n",
       "  </thead>\n",
       "  <tbody>\n",
       "    <tr>\n",
       "      <th>0</th>\n",
       "      <td>0.187948</td>\n",
       "      <td>0.192493</td>\n",
       "      <td>-0.004545</td>\n",
       "    </tr>\n",
       "    <tr>\n",
       "      <th>1</th>\n",
       "      <td>0.193521</td>\n",
       "      <td>0.190536</td>\n",
       "      <td>0.002985</td>\n",
       "    </tr>\n",
       "    <tr>\n",
       "      <th>2</th>\n",
       "      <td>0.194367</td>\n",
       "      <td>0.190127</td>\n",
       "      <td>0.004240</td>\n",
       "    </tr>\n",
       "    <tr>\n",
       "      <th>3</th>\n",
       "      <td>0.195536</td>\n",
       "      <td>0.190882</td>\n",
       "      <td>0.004654</td>\n",
       "    </tr>\n",
       "    <tr>\n",
       "      <th>4</th>\n",
       "      <td>0.221576</td>\n",
       "      <td>0.192209</td>\n",
       "      <td>0.029367</td>\n",
       "    </tr>\n",
       "    <tr>\n",
       "      <th>...</th>\n",
       "      <td>...</td>\n",
       "      <td>...</td>\n",
       "      <td>...</td>\n",
       "    </tr>\n",
       "    <tr>\n",
       "      <th>361</th>\n",
       "      <td>0.247673</td>\n",
       "      <td>0.268789</td>\n",
       "      <td>-0.021116</td>\n",
       "    </tr>\n",
       "    <tr>\n",
       "      <th>362</th>\n",
       "      <td>0.220902</td>\n",
       "      <td>0.255668</td>\n",
       "      <td>-0.034766</td>\n",
       "    </tr>\n",
       "    <tr>\n",
       "      <th>363</th>\n",
       "      <td>0.211787</td>\n",
       "      <td>0.237693</td>\n",
       "      <td>-0.025906</td>\n",
       "    </tr>\n",
       "    <tr>\n",
       "      <th>364</th>\n",
       "      <td>0.219845</td>\n",
       "      <td>0.220889</td>\n",
       "      <td>-0.001044</td>\n",
       "    </tr>\n",
       "    <tr>\n",
       "      <th>365</th>\n",
       "      <td>0.231686</td>\n",
       "      <td>0.212335</td>\n",
       "      <td>0.019351</td>\n",
       "    </tr>\n",
       "  </tbody>\n",
       "</table>\n",
       "<p>366 rows × 3 columns</p>\n",
       "</div>"
      ],
      "text/plain": [
       "       actual  predicted      diff\n",
       "0    0.187948   0.192493 -0.004545\n",
       "1    0.193521   0.190536  0.002985\n",
       "2    0.194367   0.190127  0.004240\n",
       "3    0.195536   0.190882  0.004654\n",
       "4    0.221576   0.192209  0.029367\n",
       "..        ...        ...       ...\n",
       "361  0.247673   0.268789 -0.021116\n",
       "362  0.220902   0.255668 -0.034766\n",
       "363  0.211787   0.237693 -0.025906\n",
       "364  0.219845   0.220889 -0.001044\n",
       "365  0.231686   0.212335  0.019351\n",
       "\n",
       "[366 rows x 3 columns]"
      ]
     },
     "execution_count": 62,
     "metadata": {},
     "output_type": "execute_result"
    }
   ],
   "source": [
    "s1 = pd.Series([y_test_scaled])\n",
    "s2 = pd.Series([predictions])\n",
    "\n",
    "a1 = []\n",
    "a2 = []\n",
    "for x in s1[0]:\n",
    "    a1.append(x[0])\n",
    "for x in s2[0]:\n",
    "    a2.append(x[0])\n",
    "    \n",
    "a3 = []\n",
    "for x in range(len(a1)):\n",
    "    a3.append(a1[x] - a2[x])\n",
    "    \n",
    "d = {'actual': a1, 'predicted': a2, 'diff': a3}\n",
    "df = pd.DataFrame(data=d)\n",
    "df\n"
   ]
  },
  {
   "cell_type": "code",
   "execution_count": 135,
   "metadata": {},
   "outputs": [
    {
     "name": "stdout",
     "output_type": "stream",
     "text": [
      "(366, 50, 1)\n",
      "(50,)\n",
      "(1, 50, 1)\n",
      "[0.07437752 0.07744083 0.07837906 0.07876584 0.08536261 0.08851912\n",
      " 0.08608497 0.08892674 0.0961628  0.13495318 0.13059315 0.18135807\n",
      " 0.20457138 0.18752131 0.15729645 0.16512504 0.18479685 0.17900461\n",
      " 0.19634172 0.18100046 0.1860632  0.18650209 0.16435474 0.17249121\n",
      " 0.18300198 0.17976954 0.1648249  0.17226581 0.16911109 0.16114732\n",
      " 0.14934489 0.15081283 0.14666807 0.13832764 0.16774916 0.17020564\n",
      " 0.17242749 0.17087618 0.16401917 0.15235639 0.13186308 0.07563107\n",
      " 0.0989209  0.09318703 0.08624456 0.08285253 0.07222475 0.06425354\n",
      " 0.0615395  0.06393881]\n"
     ]
    }
   ],
   "source": [
    "#y_test[-51:-1]\n",
    "#scaler.inverse_transform(y_test[-51:-1].reshape(-1,1))\n",
    "print(x_test.shape)\n",
    "print(y_test[-51:-1].shape)\n",
    "k = np.reshape(y_test[-51:-1], (1,x_train.shape[1],1))\n",
    "print(k.shape)\n",
    "p = model.predict(k)\n",
    "\n",
    "new = np.array(y_test[-51:-1])\n",
    "print(new)"
   ]
  }
 ],
 "metadata": {
  "kernelspec": {
   "display_name": "Python 3",
   "language": "python",
   "name": "python3"
  },
  "language_info": {
   "codemirror_mode": {
    "name": "ipython",
    "version": 3
   },
   "file_extension": ".py",
   "mimetype": "text/x-python",
   "name": "python",
   "nbconvert_exporter": "python",
   "pygments_lexer": "ipython3",
   "version": "3.6.12"
  }
 },
 "nbformat": 4,
 "nbformat_minor": 4
}
